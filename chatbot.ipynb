{
 "cells": [
  {
   "cell_type": "code",
   "execution_count": 1,
   "metadata": {},
   "outputs": [
    {
     "data": {
      "text/plain": [
       "True"
      ]
     },
     "execution_count": 1,
     "metadata": {},
     "output_type": "execute_result"
    }
   ],
   "source": [
    "import os\n",
    "from dotenv import load_dotenv\n",
    "load_dotenv()"
   ]
  },
  {
   "cell_type": "code",
   "execution_count": 2,
   "metadata": {},
   "outputs": [],
   "source": [
    "groq_api=os.getenv(\"GROQ_API_KEY\")"
   ]
  },
  {
   "cell_type": "code",
   "execution_count": 3,
   "metadata": {},
   "outputs": [],
   "source": [
    "from langchain_groq import ChatGroq"
   ]
  },
  {
   "cell_type": "code",
   "execution_count": 4,
   "metadata": {},
   "outputs": [],
   "source": [
    "model = ChatGroq(model=\"Gemma2-9b-It\", groq_api_key=groq_api)"
   ]
  },
  {
   "cell_type": "code",
   "execution_count": 5,
   "metadata": {},
   "outputs": [],
   "source": [
    "response=model.invoke(\"Hi AI assistent. How are you doing today?\")"
   ]
  },
  {
   "cell_type": "code",
   "execution_count": 6,
   "metadata": {},
   "outputs": [
    {
     "data": {
      "text/plain": [
       "\"As an AI, I don't have feelings or experiences like humans do. However, I'm here and ready to assist you with any questions or tasks you may have!\\n\\nHow can I help you today? 😊\\n\""
      ]
     },
     "execution_count": 6,
     "metadata": {},
     "output_type": "execute_result"
    }
   ],
   "source": [
    "response.content"
   ]
  },
  {
   "cell_type": "code",
   "execution_count": 7,
   "metadata": {},
   "outputs": [],
   "source": [
    "from langchain_core.messages import AIMessage, HumanMessage, SystemMessage"
   ]
  },
  {
   "cell_type": "code",
   "execution_count": 8,
   "metadata": {},
   "outputs": [],
   "source": [
    "result2=model.invoke([HumanMessage(content=\"Hi my name is kaleb i am currently learning about AI, LLM and Agentic AI.\")])"
   ]
  },
  {
   "cell_type": "code",
   "execution_count": 9,
   "metadata": {},
   "outputs": [
    {
     "data": {
      "text/plain": [
       "\"Hi Kaleb, it's great to meet you! That's awesome that you're learning about AI, LLMs, and Agentic AI. It's a really exciting field with lots of potential.\\n\\nI'm Gemma, an AI assistant, and I can help you learn more about these topics.  \\n\\nWhat specifically are you interested in learning about? For example:\\n\\n* **AI in general:** We could talk about different types of AI, how it's used in the real world, and the ethical considerations surrounding it.\\n* **LLMs:** I could explain how large language models like myself work, what we're capable of doing, and some examples of how they're being used.\\n* **Agentic AI:** We could discuss the concept of AI agents, how they differ from other types of AI, and some of the challenges and opportunities they present.\\n\\nJust let me know what sparks your curiosity! 😊\\n\""
      ]
     },
     "execution_count": 9,
     "metadata": {},
     "output_type": "execute_result"
    }
   ],
   "source": [
    "result2.content"
   ]
  },
  {
   "cell_type": "code",
   "execution_count": 10,
   "metadata": {},
   "outputs": [],
   "source": [
    "result3= model.invoke([\n",
    "    HumanMessage(content=\"Hi my name is kaleb i am currently learning about AI, LLM and Agentic AI.\"),\n",
    "    AIMessage(content=\"Hi Kaleb, it's great to meet you!  \\n\\nLearning about AI, LLMs, and Agentic AI is super exciting. It's a rapidly evolving field with tons of potential.\"),\n",
    "    HumanMessage(content=\"Hey what is my name and What should I do?\")\n",
    "])"
   ]
  },
  {
   "cell_type": "code",
   "execution_count": 11,
   "metadata": {},
   "outputs": [
    {
     "data": {
      "text/plain": [
       "\"You said your name is Kaleb! \\n\\nAs for what you should do, that depends on what you're interested in. \\n\\nSince you're learning about AI, here are some ideas:\\n\\n* **Explore different AI concepts:**  There are tons of resources online and in libraries to help you learn more about machine learning, deep learning, natural language processing, and more.\\n* **Try out some AI tools:** Many free and open-source AI tools are available. Experiment with them to see how they work and what you can create.\\n* **Join an online community:** Connecting with other people interested in AI can be a great way to learn and share ideas.\\n* **Start building your own AI projects:** Even small projects can be a great way to learn and have fun.\\n\\nWhat are you most interested in learning about AI? I can try to give you more specific advice based on your interests.\\n\""
      ]
     },
     "execution_count": 11,
     "metadata": {},
     "output_type": "execute_result"
    }
   ],
   "source": [
    "result3.content"
   ]
  },
  {
   "cell_type": "code",
   "execution_count": 13,
   "metadata": {},
   "outputs": [],
   "source": [
    "from langchain_community.chat_message_histories import ChatMessageHistory\n",
    "from langchain_core.chat_history import BaseChatMessageHistory\n",
    "from langchain_core.runnables.history import RunnableWithMessageHistory"
   ]
  },
  {
   "cell_type": "code",
   "execution_count": 14,
   "metadata": {},
   "outputs": [],
   "source": [
    "store={}\n",
    "\n",
    "def get_session_history(session_id:int)->BaseChatMessageHistory:\n",
    "    if session_id not in store:\n",
    "        store[session_id]=ChatMessageHistory()\n",
    "    return store[session_id]\n",
    "\n",
    "with_message_history = RunnableWithMessageHistory(model, get_session_history)"
   ]
  },
  {
   "cell_type": "code",
   "execution_count": 16,
   "metadata": {},
   "outputs": [],
   "source": [
    "config1= {\"configurable\":{\"session_id\":\"test1\"}}\n",
    "\n",
    "respo=with_message_history.invoke([\n",
    "    HumanMessage(content=\"Hi my name is Kaleb. I am a data science professional\")\n",
    "],\n",
    "config=config1)"
   ]
  },
  {
   "cell_type": "code",
   "execution_count": 17,
   "metadata": {},
   "outputs": [
    {
     "data": {
      "text/plain": [
       "\"Hi Kaleb! It's great to meet you. \\n\\nWhat kind of data science work do you do? I'm always fascinated to hear about the different applications of data science in various fields.  \\n\\nDo you have a particular area of expertise, like machine learning, data visualization, or something else?  😊 \\n\\n\""
      ]
     },
     "execution_count": 17,
     "metadata": {},
     "output_type": "execute_result"
    }
   ],
   "source": [
    "respo.content"
   ]
  },
  {
   "cell_type": "code",
   "execution_count": 18,
   "metadata": {},
   "outputs": [],
   "source": [
    "respo=with_message_history.invoke(\n",
    "    [\n",
    "        HumanMessage(content=\"What is my name and what do i do?\")\n",
    "    ],\n",
    "    config=config1\n",
    ")"
   ]
  },
  {
   "cell_type": "code",
   "execution_count": 19,
   "metadata": {},
   "outputs": [
    {
     "data": {
      "text/plain": [
       "\"You told me your name is Kaleb, and that you are a data science professional.  \\n\\nIs there anything else you'd like to tell me about yourself or your work? 😊 \\n\""
      ]
     },
     "execution_count": 19,
     "metadata": {},
     "output_type": "execute_result"
    }
   ],
   "source": [
    "respo.content"
   ]
  },
  {
   "cell_type": "code",
   "execution_count": null,
   "metadata": {},
   "outputs": [],
   "source": []
  }
 ],
 "metadata": {
  "kernelspec": {
   "display_name": ".venv",
   "language": "python",
   "name": "python3"
  },
  "language_info": {
   "codemirror_mode": {
    "name": "ipython",
    "version": 3
   },
   "file_extension": ".py",
   "mimetype": "text/x-python",
   "name": "python",
   "nbconvert_exporter": "python",
   "pygments_lexer": "ipython3",
   "version": "3.12.0"
  }
 },
 "nbformat": 4,
 "nbformat_minor": 2
}
