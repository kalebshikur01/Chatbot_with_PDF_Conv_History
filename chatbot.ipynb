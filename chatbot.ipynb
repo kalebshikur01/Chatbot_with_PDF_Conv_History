{
 "cells": [
  {
   "cell_type": "code",
   "execution_count": 6,
   "metadata": {},
   "outputs": [
    {
     "data": {
      "text/plain": [
       "True"
      ]
     },
     "execution_count": 6,
     "metadata": {},
     "output_type": "execute_result"
    }
   ],
   "source": [
    "import os\n",
    "from dotenv import load_dotenv\n",
    "load_dotenv()"
   ]
  },
  {
   "cell_type": "code",
   "execution_count": 7,
   "metadata": {},
   "outputs": [],
   "source": [
    "groq_api=os.getenv(\"GROQ_API_KEY\")"
   ]
  },
  {
   "cell_type": "code",
   "execution_count": 1,
   "metadata": {},
   "outputs": [],
   "source": [
    "from langchain_groq import ChatGroq"
   ]
  },
  {
   "cell_type": "code",
   "execution_count": 9,
   "metadata": {},
   "outputs": [],
   "source": [
    "model = ChatGroq(model=\"Gemma2-9b-It\", groq_api_key=groq_api)"
   ]
  },
  {
   "cell_type": "code",
   "execution_count": 10,
   "metadata": {},
   "outputs": [],
   "source": [
    "response=model.invoke(\"Hi AI assistent. How are you doing today?\")"
   ]
  },
  {
   "cell_type": "code",
   "execution_count": 11,
   "metadata": {},
   "outputs": [
    {
     "data": {
      "text/plain": [
       "\"As an AI, I don't have feelings or experiences like humans do.\\n\\nBut I'm here and ready to assist you! How can I help you today? 😊\\n\""
      ]
     },
     "execution_count": 11,
     "metadata": {},
     "output_type": "execute_result"
    }
   ],
   "source": [
    "response.content"
   ]
  },
  {
   "cell_type": "code",
   "execution_count": 12,
   "metadata": {},
   "outputs": [],
   "source": [
    "from langchain_core.messages import AIMessage, HumanMessage, SystemMessage"
   ]
  },
  {
   "cell_type": "code",
   "execution_count": 14,
   "metadata": {},
   "outputs": [],
   "source": [
    "result2=model.invoke([HumanMessage(content=\"Hi my name is kaleb i am currently learning about AI, LLM and Agentic AI.\")])"
   ]
  },
  {
   "cell_type": "code",
   "execution_count": 15,
   "metadata": {},
   "outputs": [
    {
     "data": {
      "text/plain": [
       "\"Hi Kaleb, it's great to meet you!  \\n\\nLearning about AI, LLMs, and Agentic AI is super exciting. It's a rapidly evolving field with tons of potential. \\n\\nWhat specifically are you interested in learning about? \\n\\nPerhaps I can help you with:\\n\\n* **Explaining concepts:** I can break down complex ideas about AI, LLMs, and Agentic AI in a way that's easier to understand.\\n* **Providing examples:** I can give you real-world examples of how these technologies are being used.\\n* **Discussing ethical considerations:** We can talk about the potential benefits and risks of AI, and how to ensure it's used responsibly.\\n* **Exploring career paths:** If you're interested in a career in AI, I can share some information about different roles and opportunities.\\n\\nJust let me know what you'd like to explore!\\n\""
      ]
     },
     "execution_count": 15,
     "metadata": {},
     "output_type": "execute_result"
    }
   ],
   "source": [
    "result2.content"
   ]
  },
  {
   "cell_type": "code",
   "execution_count": 20,
   "metadata": {},
   "outputs": [],
   "source": [
    "result3= model.invoke([\n",
    "    HumanMessage(content=\"Hi my name is kaleb i am currently learning about AI, LLM and Agentic AI.\"),\n",
    "    AIMessage(content=\"Hi Kaleb, it's great to meet you!  \\n\\nLearning about AI, LLMs, and Agentic AI is super exciting. It's a rapidly evolving field with tons of potential.\"),\n",
    "    HumanMessage(content=\"Hey what is my name and What should I do?\")\n",
    "])"
   ]
  },
  {
   "cell_type": "code",
   "execution_count": 21,
   "metadata": {},
   "outputs": [
    {
     "data": {
      "text/plain": [
       "\"You said your name is Kaleb!  \\n\\nAs for what you should do, that depends on what you're interested in.  \\n\\nSince you're learning about AI, here are some ideas:\\n\\n* **Explore different types of AI:** There's a lot more to AI than just large language models like me.  Look into things like computer vision, robotics, and natural language processing.\\n* **Try out some AI tools:** There are tons of free and open-source AI tools available online. Experiment with them and see what you can create!\\n* **Read about the ethical implications of AI:** AI is a powerful technology, and it's important to think about the potential consequences of its use. \\n\\nWhat are you most curious about when it comes to AI? Maybe I can give you some more specific suggestions!\\n\""
      ]
     },
     "execution_count": 21,
     "metadata": {},
     "output_type": "execute_result"
    }
   ],
   "source": [
    "result3.content"
   ]
  },
  {
   "cell_type": "code",
   "execution_count": 22,
   "metadata": {},
   "outputs": [],
   "source": [
    "from langchain_community.chat_message_histories import ChatMessageHistory\n",
    "from langchain_core.chat_history import BaseChatMessageHistory\n",
    "from langchain_core.runnables.history import RunnableWithMessageHistory"
   ]
  },
  {
   "cell_type": "code",
   "execution_count": null,
   "metadata": {},
   "outputs": [],
   "source": [
    "store={}\n",
    "\n",
    "def get_session_history(session_id:int)->BaseChatMessageHistory:\n",
    "    if session_id not in store:\n",
    "        store[session_id]=ChatMessageHistory()\n",
    "    return store[session_id]\n",
    "\n",
    "with_message_history = RunnableWithMessageHistory(model, get_session_history)"
   ]
  },
  {
   "cell_type": "code",
   "execution_count": null,
   "metadata": {},
   "outputs": [],
   "source": []
  }
 ],
 "metadata": {
  "kernelspec": {
   "display_name": ".venv",
   "language": "python",
   "name": "python3"
  },
  "language_info": {
   "codemirror_mode": {
    "name": "ipython",
    "version": 3
   },
   "file_extension": ".py",
   "mimetype": "text/x-python",
   "name": "python",
   "nbconvert_exporter": "python",
   "pygments_lexer": "ipython3",
   "version": "3.12.0"
  }
 },
 "nbformat": 4,
 "nbformat_minor": 2
}
