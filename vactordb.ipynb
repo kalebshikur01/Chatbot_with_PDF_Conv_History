{
 "cells": [
  {
   "cell_type": "code",
   "execution_count": 9,
   "metadata": {},
   "outputs": [],
   "source": [
    "from langchain_core.documents import Document\n",
    "\n",
    "documents = [\n",
    "  Document(\n",
    "    page_content= \"The Nile is the longest river in the world.\",\n",
    "    metadata= {\"source\": \"geography\", \"author\": \"admin\"}\n",
    "  ),\n",
    "  Document(\n",
    "    page_content= \"Python is a popular programming language for AI.\",\n",
    "    metadata= {\"source\": \"technology\", \"author\": \"kaleb\"}\n",
    "  ),\n",
    "  Document(\n",
    "    page_content= \"Coffee was first discovered in Ethiopia.\",\n",
    "    metadata= {\"source\": \"history\", \"author\": \"researcher\"}\n",
    "  ),\n",
    "  Document(\n",
    "    page_content= \"Mount Everest is the highest mountain on Earth.\",\n",
    "    metadata= {\"source\": \"geography\", \"author\": \"explorer\"}\n",
    "  ),\n",
    "  Document(\n",
    "    page_content= \"Photosynthesis is how plants make their own food.\",\n",
    "    metadata= {\"source\": \"science\", \"author\": \"teacher\"}\n",
    "  ),\n",
    "  Document(\n",
    "    page_content= \"Soccer is the most popular sport in the world.\",\n",
    "     metadata={\"source\": \"sports\", \"author\": \"sports_writer\"}\n",
    "  ),\n",
    "  Document(\n",
    "    page_content= \"The Great Wall of China is visible from space.\",\n",
    "    metadata= {\"source\": \"history\", \"author\": \"guide\"}\n",
    "  ),\n",
    "  Document(\n",
    "    page_content= \"Gravity was first described by Isaac Newton.\",\n",
    "    metadata= {\"source\": \"science\", \"author\": \"student\"}\n",
    "  ),\n",
    "  Document(\n",
    "    page_content= \"The Sahara is the largest hot desert in the world.\",\n",
    "    metadata={\"source\": \"geography\", \"author\": \"scientist\"}\n",
    "  ),\n",
    "  Document(\n",
    "    page_content= \"Bananas are naturally radioactive.\",\n",
    "    metadata= {\"source\": \"fun_fact\", \"author\": \"blogger\"}\n",
    "  )\n",
    "]"
   ]
  },
  {
   "cell_type": "code",
   "execution_count": null,
   "metadata": {},
   "outputs": [],
   "source": []
  },
  {
   "cell_type": "code",
   "execution_count": 1,
   "metadata": {},
   "outputs": [],
   "source": [
    "import os\n",
    "from dotenv import load_dotenv\n",
    "load_dotenv()\n",
    "from langchain_groq import ChatGroq"
   ]
  },
  {
   "cell_type": "code",
   "execution_count": 2,
   "metadata": {},
   "outputs": [],
   "source": [
    "groq_api_key = os.getenv('GROQ_API_KEY')\n",
    "os.environ['HF_TOKEN']= os.getenv('HF_TOKEN')"
   ]
  },
  {
   "cell_type": "code",
   "execution_count": 4,
   "metadata": {},
   "outputs": [
    {
     "data": {
      "text/plain": [
       "ChatGroq(client=<groq.resources.chat.completions.Completions object at 0x000002664CE8C800>, async_client=<groq.resources.chat.completions.AsyncCompletions object at 0x000002664D15FAD0>, model_name='Llama3-8b-8192', model_kwargs={}, groq_api_key=SecretStr('**********'))"
      ]
     },
     "execution_count": 4,
     "metadata": {},
     "output_type": "execute_result"
    }
   ],
   "source": [
    "llm = ChatGroq(model='Llama3-8b-8192', api_key=groq_api_key)\n",
    "llm"
   ]
  },
  {
   "cell_type": "code",
   "execution_count": 5,
   "metadata": {},
   "outputs": [],
   "source": [
    "from langchain_huggingface.embeddings import HuggingFaceEmbeddings"
   ]
  },
  {
   "cell_type": "code",
   "execution_count": 6,
   "metadata": {},
   "outputs": [
    {
     "name": "stderr",
     "output_type": "stream",
     "text": [
      "c:\\Users\\kaleb\\Desktop\\Python\\GenAI_course\\Chatbot_with_PDF_Conv_History\\.venv\\Lib\\site-packages\\tqdm\\auto.py:21: TqdmWarning: IProgress not found. Please update jupyter and ipywidgets. See https://ipywidgets.readthedocs.io/en/stable/user_install.html\n",
      "  from .autonotebook import tqdm as notebook_tqdm\n"
     ]
    }
   ],
   "source": [
    "embedding = HuggingFaceEmbeddings(model_name='all-MiniLM-L6-v2')"
   ]
  },
  {
   "cell_type": "code",
   "execution_count": 7,
   "metadata": {},
   "outputs": [],
   "source": [
    "from langchain_chroma import Chroma"
   ]
  },
  {
   "cell_type": "code",
   "execution_count": 10,
   "metadata": {},
   "outputs": [
    {
     "data": {
      "text/plain": [
       "<langchain_chroma.vectorstores.Chroma at 0x26604203d70>"
      ]
     },
     "execution_count": 10,
     "metadata": {},
     "output_type": "execute_result"
    }
   ],
   "source": [
    "vectorestore = Chroma.from_documents(documents, embedding=embedding)\n",
    "vectorestore"
   ]
  },
  {
   "cell_type": "code",
   "execution_count": 11,
   "metadata": {},
   "outputs": [
    {
     "data": {
      "text/plain": [
       "[Document(id='4d72f6e4-1c2c-41a0-8859-71e961ad3ad1', metadata={'author': 'admin', 'source': 'geography'}, page_content='The Nile is the longest river in the world.'),\n",
       " Document(id='e19b5288-3a18-4dfc-8805-500025db93ed', metadata={'author': 'kaleb', 'source': 'technology'}, page_content='Python is a popular programming language for AI.'),\n",
       " Document(id='5f26e7da-bcb3-4cb7-ab9f-ebe52ce0f6fd', metadata={'author': 'researcher', 'source': 'history'}, page_content='Coffee was first discovered in Ethiopia.'),\n",
       " Document(id='633646e4-dc9a-462b-bcb0-6ca7e0886e1d', metadata={'author': 'guide', 'source': 'history'}, page_content='The Great Wall of China is visible from space.')]"
      ]
     },
     "execution_count": 11,
     "metadata": {},
     "output_type": "execute_result"
    }
   ],
   "source": [
    "vectorestore.similarity_search(\"river\")"
   ]
  },
  {
   "cell_type": "code",
   "execution_count": 12,
   "metadata": {},
   "outputs": [],
   "source": [
    "from typing import List\n",
    "\n",
    "from langchain_core.runnables import RunnableLambda"
   ]
  },
  {
   "cell_type": "code",
   "execution_count": 14,
   "metadata": {},
   "outputs": [
    {
     "data": {
      "text/plain": [
       "[[Document(id='4d72f6e4-1c2c-41a0-8859-71e961ad3ad1', metadata={'author': 'admin', 'source': 'geography'}, page_content='The Nile is the longest river in the world.')],\n",
       " [Document(id='5f26e7da-bcb3-4cb7-ab9f-ebe52ce0f6fd', metadata={'author': 'researcher', 'source': 'history'}, page_content='Coffee was first discovered in Ethiopia.')]]"
      ]
     },
     "execution_count": 14,
     "metadata": {},
     "output_type": "execute_result"
    }
   ],
   "source": [
    "retriever=RunnableLambda(vectorestore.similarity_search).bind(k=1)\n",
    "retriever.batch([\"river\",\"Kenya\"])"
   ]
  },
  {
   "cell_type": "code",
   "execution_count": 24,
   "metadata": {},
   "outputs": [
    {
     "data": {
      "text/plain": [
       "[[Document(id='e19b5288-3a18-4dfc-8805-500025db93ed', metadata={'author': 'kaleb', 'source': 'technology'}, page_content='Python is a popular programming language for AI.'),\n",
       "  Document(id='633646e4-dc9a-462b-bcb0-6ca7e0886e1d', metadata={'author': 'guide', 'source': 'history'}, page_content='The Great Wall of China is visible from space.')],\n",
       " [Document(id='5f26e7da-bcb3-4cb7-ab9f-ebe52ce0f6fd', metadata={'author': 'researcher', 'source': 'history'}, page_content='Coffee was first discovered in Ethiopia.'),\n",
       "  Document(id='a1f92a88-d6e5-457d-92be-83d4a0af8305', metadata={'author': 'scientist', 'source': 'geography'}, page_content='The Sahara is the largest hot desert in the world.')]]"
      ]
     },
     "execution_count": 24,
     "metadata": {},
     "output_type": "execute_result"
    }
   ],
   "source": [
    "retriever2=vectorestore.as_retriever(\n",
    "    search_type=\"similarity\",\n",
    "    search_kwargs={\"k\":2}\n",
    ")\n",
    "\n",
    "retriever2.batch([\"brain\",\"Kenya\"])"
   ]
  },
  {
   "cell_type": "code",
   "execution_count": 25,
   "metadata": {},
   "outputs": [],
   "source": [
    "from langchain_core.prompts import ChatPromptTemplate\n",
    "from langchain_core.runnables import RunnablePassthrough\n",
    "\n",
    "messages=\"\"\"\n",
    "Answer this question using the provided context only.\n",
    "\n",
    "{question}\n",
    "\n",
    "Context:\n",
    "{context}\n",
    "\"\"\"\n",
    "\n",
    "prompt=ChatPromptTemplate.from_messages([(\"human\", messages)])\n",
    "\n",
    "rag_chain={\"context\":retriever2, \"question\":RunnablePassthrough()}| prompt|llm"
   ]
  },
  {
   "cell_type": "code",
   "execution_count": 26,
   "metadata": {},
   "outputs": [
    {
     "data": {
      "text/plain": [
       "AIMessage(content=\"Here's a geographic fact:\\n\\nThe Sahara is the largest hot desert in the world.\", additional_kwargs={}, response_metadata={'token_usage': {'completion_tokens': 18, 'prompt_tokens': 143, 'total_tokens': 161, 'completion_time': 0.015, 'prompt_time': 0.054469593, 'queue_time': 0.137977315, 'total_time': 0.069469593}, 'model_name': 'Llama3-8b-8192', 'system_fingerprint': 'fp_dadc9d6142', 'finish_reason': 'stop', 'logprobs': None}, id='run-ae52f610-f5c0-4011-ad00-a2b3c517194b-0', usage_metadata={'input_tokens': 143, 'output_tokens': 18, 'total_tokens': 161})"
      ]
     },
     "execution_count": 26,
     "metadata": {},
     "output_type": "execute_result"
    }
   ],
   "source": [
    "rag_chain.invoke(\"Tell 1 fact geographic fact\")"
   ]
  },
  {
   "cell_type": "code",
   "execution_count": null,
   "metadata": {},
   "outputs": [],
   "source": []
  }
 ],
 "metadata": {
  "kernelspec": {
   "display_name": ".venv",
   "language": "python",
   "name": "python3"
  },
  "language_info": {
   "codemirror_mode": {
    "name": "ipython",
    "version": 3
   },
   "file_extension": ".py",
   "mimetype": "text/x-python",
   "name": "python",
   "nbconvert_exporter": "python",
   "pygments_lexer": "ipython3",
   "version": "3.12.0"
  }
 },
 "nbformat": 4,
 "nbformat_minor": 2
}
